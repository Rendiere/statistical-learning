{
 "cells": [
  {
   "cell_type": "markdown",
   "metadata": {},
   "source": [
    "# Statistical Learning\n",
    "\n",
    "## The Data\n",
    "\n",
    "The Advertising data set consists of the sales of that product in 200 different markets, along with advertising budgets for the product in each of those markets for three different media: TV, radio, and newspaper.\n",
    "\n",
    "**Goal**\n",
    "\n",
    "Our goal is to develop an accurate model that can be used to predict sales on the basis of the three media budgets.\n",
    "\n",
    "## Load and process data"
   ]
  },
  {
   "cell_type": "code",
   "execution_count": 1,
   "metadata": {},
   "outputs": [
    {
     "name": "stdout",
     "output_type": "stream",
     "text": [
      "Shape of dataset:  (200, 4)\n",
      "Preview:\n"
     ]
    },
    {
     "data": {
      "text/html": [
       "<div>\n",
       "<style scoped>\n",
       "    .dataframe tbody tr th:only-of-type {\n",
       "        vertical-align: middle;\n",
       "    }\n",
       "\n",
       "    .dataframe tbody tr th {\n",
       "        vertical-align: top;\n",
       "    }\n",
       "\n",
       "    .dataframe thead th {\n",
       "        text-align: right;\n",
       "    }\n",
       "</style>\n",
       "<table border=\"1\" class=\"dataframe\">\n",
       "  <thead>\n",
       "    <tr style=\"text-align: right;\">\n",
       "      <th></th>\n",
       "      <th>TV</th>\n",
       "      <th>radio</th>\n",
       "      <th>newspaper</th>\n",
       "      <th>sales</th>\n",
       "    </tr>\n",
       "  </thead>\n",
       "  <tbody>\n",
       "    <tr>\n",
       "      <th>1</th>\n",
       "      <td>230.1</td>\n",
       "      <td>37.8</td>\n",
       "      <td>69.2</td>\n",
       "      <td>22.1</td>\n",
       "    </tr>\n",
       "    <tr>\n",
       "      <th>2</th>\n",
       "      <td>44.5</td>\n",
       "      <td>39.3</td>\n",
       "      <td>45.1</td>\n",
       "      <td>10.4</td>\n",
       "    </tr>\n",
       "    <tr>\n",
       "      <th>3</th>\n",
       "      <td>17.2</td>\n",
       "      <td>45.9</td>\n",
       "      <td>69.3</td>\n",
       "      <td>9.3</td>\n",
       "    </tr>\n",
       "    <tr>\n",
       "      <th>4</th>\n",
       "      <td>151.5</td>\n",
       "      <td>41.3</td>\n",
       "      <td>58.5</td>\n",
       "      <td>18.5</td>\n",
       "    </tr>\n",
       "    <tr>\n",
       "      <th>5</th>\n",
       "      <td>180.8</td>\n",
       "      <td>10.8</td>\n",
       "      <td>58.4</td>\n",
       "      <td>12.9</td>\n",
       "    </tr>\n",
       "  </tbody>\n",
       "</table>\n",
       "</div>"
      ],
      "text/plain": [
       "      TV  radio  newspaper  sales\n",
       "1  230.1   37.8       69.2   22.1\n",
       "2   44.5   39.3       45.1   10.4\n",
       "3   17.2   45.9       69.3    9.3\n",
       "4  151.5   41.3       58.5   18.5\n",
       "5  180.8   10.8       58.4   12.9"
      ]
     },
     "execution_count": 1,
     "metadata": {},
     "output_type": "execute_result"
    }
   ],
   "source": [
    "import pandas as pd\n",
    "\n",
    "adv_data = pd.read_csv('../data/Advertising.csv', index_col=0)\n",
    "print('Shape of dataset: ',adv_data.shape)\n",
    "print('Preview:')\n",
    "adv_data.head()"
   ]
  },
  {
   "cell_type": "markdown",
   "metadata": {},
   "source": [
    "Convert dataset into long-format for plotting"
   ]
  },
  {
   "cell_type": "code",
   "execution_count": 2,
   "metadata": {},
   "outputs": [
    {
     "data": {
      "text/html": [
       "<div>\n",
       "<style scoped>\n",
       "    .dataframe tbody tr th:only-of-type {\n",
       "        vertical-align: middle;\n",
       "    }\n",
       "\n",
       "    .dataframe tbody tr th {\n",
       "        vertical-align: top;\n",
       "    }\n",
       "\n",
       "    .dataframe thead th {\n",
       "        text-align: right;\n",
       "    }\n",
       "</style>\n",
       "<table border=\"1\" class=\"dataframe\">\n",
       "  <thead>\n",
       "    <tr style=\"text-align: right;\">\n",
       "      <th></th>\n",
       "      <th>sales</th>\n",
       "      <th>method</th>\n",
       "      <th>ad_budget</th>\n",
       "    </tr>\n",
       "  </thead>\n",
       "  <tbody>\n",
       "    <tr>\n",
       "      <th>0</th>\n",
       "      <td>22.1</td>\n",
       "      <td>TV</td>\n",
       "      <td>230.1</td>\n",
       "    </tr>\n",
       "    <tr>\n",
       "      <th>1</th>\n",
       "      <td>10.4</td>\n",
       "      <td>TV</td>\n",
       "      <td>44.5</td>\n",
       "    </tr>\n",
       "    <tr>\n",
       "      <th>2</th>\n",
       "      <td>9.3</td>\n",
       "      <td>TV</td>\n",
       "      <td>17.2</td>\n",
       "    </tr>\n",
       "    <tr>\n",
       "      <th>3</th>\n",
       "      <td>18.5</td>\n",
       "      <td>TV</td>\n",
       "      <td>151.5</td>\n",
       "    </tr>\n",
       "    <tr>\n",
       "      <th>4</th>\n",
       "      <td>12.9</td>\n",
       "      <td>TV</td>\n",
       "      <td>180.8</td>\n",
       "    </tr>\n",
       "  </tbody>\n",
       "</table>\n",
       "</div>"
      ],
      "text/plain": [
       "   sales method  ad_budget\n",
       "0   22.1     TV      230.1\n",
       "1   10.4     TV       44.5\n",
       "2    9.3     TV       17.2\n",
       "3   18.5     TV      151.5\n",
       "4   12.9     TV      180.8"
      ]
     },
     "execution_count": 2,
     "metadata": {},
     "output_type": "execute_result"
    }
   ],
   "source": [
    "adv_data_long = pd.melt(adv_data,id_vars=['sales'], value_name='ad_budget', var_name='method')\n",
    "adv_data_long.head()"
   ]
  },
  {
   "cell_type": "markdown",
   "metadata": {},
   "source": [
    "### Display Sales vs Advertisement Budget\n",
    "\n",
    "The plot displays sales, in thousands of units, as a function of TV, radio, and newspaper budgets, in thousands of dollars, for 200 different markets. In each plot we show the simple least squares fit of sales to that variable, as described in Chapter 3. \n",
    "\n",
    "In other words, each blue line represents a simple model that can be used to predict sales using TV, radio, and newspaper, respectively."
   ]
  },
  {
   "cell_type": "code",
   "execution_count": 3,
   "metadata": {},
   "outputs": [
    {
     "data": {
      "image/png": "[encoded data removed]",
      "text/plain": [
       "<Figure size 1080x360 with 3 Axes>"
      ]
     },
     "metadata": {
      "needs_background": "light"
     },
     "output_type": "display_data"
    }
   ],
   "source": [
    "import seaborn as sns\n",
    "plot = sns.lmplot(data=adv_data_long, x='ad_budget',y='sales', col='method', \n",
    "                  sharex=False, sharey=False, fit_reg=True, ci=None)"
   ]
  },
  {
   "cell_type": "markdown",
   "metadata": {},
   "source": [
    "### Problem Formulating \n",
    "\n",
    "In this setting, the advertising budgets are _input variables_ while sales is an _output variable_. \n",
    "\n",
    "The input variables are typically denoted using the symbol **X**, with a subscript to distinguish them. So **X1** might be the TV budget, **X2** the radio budget, and **X3** the newspaper budget. The inputs go by different names, such as _predictors_, _independent variables_, _features_, or sometimes just _variables_. \n",
    "\n",
    "The output variable—in this case, sales—is often called the response or _dependent variable_, and is typically denoted using the symbol **Y**. Throughout this book, we will use all of these terms interchangeably."
   ]
  },
  {
   "cell_type": "markdown",
   "metadata": {},
   "source": [
    "### General form expression\n",
    "\n",
    "More generally, suppose that we observe a quantitative response $Y$ and p different predictors, $X_1, X_2, . . . , X_p$. We assume that there is some relationship between $Y$ and $X = (X_1,X_2,...,X_p)$, which can be written in the very general form:\n",
    "\n",
    "$$\n",
    "Y = f(X) + \\epsilon\n",
    "$$\n",
    "\n",
    "\n",
    "Here f is some fixed but unknown function of $X_1, . . . , X_p$, and $\\epsilon$ is a random error term, which is independent of $X$ and has mean zero. In this formulation, $f$ represents the _systematic information that $X$ provides about $Y$_."
   ]
  },
  {
   "cell_type": "markdown",
   "metadata": {},
   "source": [
    "## Why Estimate $f$ ?\n",
    "\n",
    "There are two main reasons:\n",
    "1. Prediction - given $X$, what is $Y$?\n",
    "2. Inference - how does $Y$ change with $X$?\n",
    "\n",
    "\n",
    "### 1. Prediction\n",
    "\n",
    "Often we have some input variables $X$ and associated outputs $Y$, but for some inputs the output is not known. In this context, we could use $X$ to predict $Y$. We can write it as:\n",
    "\n",
    "$$\n",
    "\\hat{Y} = \\hat{f}(X)\n",
    "$$\n",
    "\n",
    "Where the ^ sign indicates and estimate of the real values. \n",
    "\n",
    "\n",
    "**Errors**\n",
    "\n",
    "The accuracy of Y as a prediction for Y depends on two quantities, which we will call the **reducible error** and the **irreducible error**.\n",
    "\n",
    "* reducible error - Improving $f$ to better represent $Y$\n",
    "* irreducible error - Errors not possible to predict --> $\\epsilon$\n",
    "\n",
    "\n",
    "### 2. Inference\n",
    "\n",
    "Instead of predicting the values of $Y$ given some $X$, we are often more interested in understanding how $Y$ changes as $X$ changes. Specifically, we may be interested in the following questions:\n",
    "\n",
    "* Which predictors are associated with the response? \n",
    "* What is the relationship between the response and each predictor?\n",
    "* Can the relationship between $Y$ and each predictor be adequately summarized using a linear equation, or is the relationship more complicated? \n",
    "\n",
    "\n",
    "### Example\n",
    "\n",
    "For example, in a real estate setting, one may seek to relate values of homes to inputs such as crime rate, zoning, distance from a river, air quality, schools, income level of community, size of houses, and so forth. In this case one might be interested in how the individual input variables affect the prices—that is, _how much extra will a house be worth if it has a view of the river_? This is an **inference** problem. \n",
    "\n",
    "Alternatively, one may simply be interested in predicting the value of a home given its characteristics: is this house under- or over-valued? This is a **prediction** problem.\n",
    "\n",
    "\n",
    "### Choosing your battles\n",
    "\n",
    "Depending on whether our ultimate goal is prediction, inference, or a combination of the two, different methods for estimating $f$ may be appropriate.\n",
    "\n",
    "For example, _linear models_ allow for relatively simple and interpretable inference, but may not yield as accurate predictions as some other approaches. In contrast, some of the highly non-linear approaches that we discuss in the later chapters of this book can potentially provide quite accu- rate predictions for $Y$ , but this comes at the expense of a less interpretable model for which inference is more challenging."
   ]
  },
  {
   "cell_type": "markdown",
   "metadata": {},
   "source": [
    "## How do we estimate $f$ ? \n",
    "\n",
    "Although the content and the context of the problems may vary, when approach a problem from a statistical learning perspective, the problems will generally share some characteristics. \n",
    "\n",
    "\n",
    "### Training Data\n",
    "\n",
    "We will always assume that we have observed a set of $n$ different data points. These observations are called the _training data_ because we will use these observations to train, or teach, our method how to estimate $f$.\n",
    "\n",
    "\n",
    "Broadly speaking, most statistical learning methods for this task can be characterized as either _parametric_ or _non-parametric_.\n",
    "\n",
    "\n",
    "### Parametric Methods\n",
    "\n",
    "Parametric methods take a two-step approach:\n",
    "\n",
    "1. Select/Assume a model for representing $f$. \n",
    "    * For example we can assume a linear model, which would take the form:  $f(X) = \\beta_0 + \\beta_1 X_1 + \\ldots \\beta_p X_p$\n",
    "2. Use the training data to _train_ the model.\n",
    "    * Now the model parameters ($\\beta_0, \\beta_1, \\ldots \\beta_p$) are estimated using the training data. \n",
    "    \n",
    "    \n",
    "**Advantage**: Only need to estimate $p+1$ parameters.\n",
    "\n",
    "**Disadvantage**: Whichever model we choose, it will usually not match the true $f$. \n",
    "\n",
    "### Non-parametric Methods\n",
    "\n",
    "Non-parametric methods do not make explicit assumptions about the functional form of $f$.\n",
    "\n",
    "**Advantage**: Potential to accurately fit a wider range of possible shapes for $f$.\n",
    "\n",
    "**Disadvantage**: Requires many more observations than parametric models for estimating $f$."
   ]
  },
  {
   "cell_type": "markdown",
   "metadata": {},
   "source": [
    "## Measuring Model Performance\n",
    "\n",
    "There are many ways to measure model performance. In the regression setting, the most commonly-used measure is the _mean squared error_ (MSE):\n",
    "\n",
    "\n",
    "$$\n",
    "MSE = \\frac{1}{n} \\sum_{i=1}^n((y_i - \\hat{f}(x_i))^2\n",
    "$$"
   ]
  },
  {
   "cell_type": "markdown",
   "metadata": {},
   "source": [
    "### Bias-Variance Decomposition\n",
    "\n",
    "The expected test MSE, for a given value $x_0$, can always be decomposed into the sum of three fundamental quantities:\n",
    "\n",
    "1. The _variance_ of $\\hat{f}(x_0)$\n",
    "2. The squared _bias_ of $\\hat{f}(x_0)$\n",
    "3. The variance of the error terms $\\epsilon$\n",
    "\n",
    "Which can be written as:\n",
    "\n",
    "$$\n",
    "E(y_0 - \\hat{f}(x_0))^2 = \\text{Var}(\\hat{f}(x_0)) + [\\text{Bias}(\\hat{f}(x_0))]^2 + \\text{Var}(\\epsilon)\n",
    "$$\n",
    "\n",
    "Where $E(y_0 - \\hat{f}(x_0))^2$ defines the _expected test MSE_, and refers to the average test MSE that we would obtain if we repeatedly estimated $f$ using a large number of training sets, and tested each at $x_0$. \n",
    "\n",
    "\n",
    "Hence, we see that the expected test MSE can never lie below $\\text{Var}(\\epsilon)$, the **irreducible error**."
   ]
  },
  {
   "cell_type": "markdown",
   "metadata": {},
   "source": [
    "### Bias Variance Trade-off\n",
    "\n",
    "**Variance** refers to the amount by which $\\hat{f}$ would change if we estimated it using a different training data set. If a method has high variance then small changes in the training data can result in large changes in $f$. \n",
    "\n",
    "> In general, more flexible statistical methods have higher variance.\n",
    "\n",
    "\n",
    "**Bias** refers to the error that is introduced by approximating a real-life problem, which may be extremely complicated, by a much simpler model. \n",
    "\n",
    ">Generally, more flexible methods result in less bias.\n",
    "\n",
    "![../figures/Chapter2/2.12.pdf](../figures/Chapter2/2.12.pdf.png)"
   ]
  },
  {
   "cell_type": "markdown",
   "metadata": {},
   "source": [
    "In this figure, we see the _mean squared error_ (MSE) plotted along with the bias and variance of a model as the model flexibility increases for three different models. The dotted line shows the point where MSE is at a minimum. \n",
    "\n",
    "\n",
    "**Note:** _This is not an analysis you can typically do for real datasets as we have to know about how the data set was generated_"
   ]
  },
  {
   "cell_type": "code",
   "execution_count": null,
   "metadata": {},
   "outputs": [],
   "source": []
  }
 ],
 "metadata": {
  "kernelspec": {
   "display_name": "Python 3",
   "language": "python",
   "name": "python3"
  },
  "language_info": {
   "codemirror_mode": {
    "name": "ipython",
    "version": 3
   },
   "file_extension": ".py",
   "mimetype": "text/x-python",
   "name": "python",
   "nbconvert_exporter": "python",
   "pygments_lexer": "ipython3",
   "version": "3.7.5"
  }
 },
 "nbformat": 4,
 "nbformat_minor": 4
}
